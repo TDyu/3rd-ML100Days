{
  "nbformat": 4,
  "nbformat_minor": 0,
  "metadata": {
    "anaconda-cloud": {},
    "kernelspec": {
      "display_name": "Python 3",
      "language": "python",
      "name": "python3"
    },
    "language_info": {
      "codemirror_mode": {
        "name": "ipython",
        "version": 3
      },
      "file_extension": ".py",
      "mimetype": "text/x-python",
      "name": "python",
      "nbconvert_exporter": "python",
      "pygments_lexer": "ipython3",
      "version": "3.7.0"
    },
    "colab": {
      "name": "Day_001_HW.ipynb",
      "version": "0.3.2",
      "provenance": [],
      "collapsed_sections": []
    }
  },
  "cells": [
    {
      "cell_type": "markdown",
      "metadata": {
        "id": "bY-6Ih0bxvsh",
        "colab_type": "text"
      },
      "source": [
        "## 練習時間\n",
        "#### 請寫一個函式用來計算 Mean Square Error\n",
        "$ MSE = \\frac{1}{n}\\sum_{i=1}^{n}{(Y_i - \\hat{Y}_i)^2} $\n",
        "\n",
        "### Hint: [如何取平方](https://googoodesign.gitbooks.io/-ezpython/unit-1.html)"
      ]
    },
    {
      "cell_type": "markdown",
      "metadata": {
        "id": "L0ZDm_hUxvsi",
        "colab_type": "text"
      },
      "source": [
        "# [作業目標]\n",
        "- 仿造範例的MAE函數, 自己寫一個MSE函數(參考上面公式)"
      ]
    },
    {
      "cell_type": "markdown",
      "metadata": {
        "id": "bK3G7wQWxvsj",
        "colab_type": "text"
      },
      "source": [
        "# [作業重點]\n",
        "- 注意程式的縮排\n",
        "- 是否能將數學公式, 轉換為 Python 的函式組合? (In[2], Out[2])"
      ]
    },
    {
      "cell_type": "code",
      "metadata": {
        "id": "ccMOuvxvxvsk",
        "colab_type": "code",
        "colab": {}
      },
      "source": [
        "# 載入基礎套件與代稱\n",
        "import numpy as np\n",
        "import matplotlib.pyplot as plt"
      ],
      "execution_count": 0,
      "outputs": []
    },
    {
      "cell_type": "code",
      "metadata": {
        "id": "BYXjz90xxvso",
        "colab_type": "code",
        "colab": {}
      },
      "source": [
        "def mean_absolute_error(y, yp):\n",
        "    \"\"\"\n",
        "    計算 MAE\n",
        "    Args:\n",
        "        - y: 實際值\n",
        "        - yp: 預測值\n",
        "    Return:\n",
        "        - mae: MAE\n",
        "    \"\"\"\n",
        "    mae = MAE = sum(abs(y - yp)) / len(y)\n",
        "    return mae\n",
        "\n",
        "# 定義 mean_squared_error 這個函數, 計算並傳回 MSE\n",
        "def mean_squared_error(y, yp):\n",
        "    MSE = sum((y - yp) ** 2) / len(y)\n",
        "    return MSE"
      ],
      "execution_count": 0,
      "outputs": []
    },
    {
      "cell_type": "code",
      "metadata": {
        "id": "ZWEvg52Axvsr",
        "colab_type": "code",
        "colab": {
          "base_uri": "https://localhost:8080/",
          "height": 281
        },
        "outputId": "94f37b7d-280d-48e9-b186-56817b71dec8"
      },
      "source": [
        "# 與範例相同, 不另外解說\n",
        "w = 3\n",
        "b = 0.5\n",
        "x_lin = np.linspace(0, 100, 101)\n",
        "y = (x_lin + np.random.randn(101) * 5) * w + b\n",
        "\n",
        "plt.plot(x_lin, y, 'b.', label = 'data points')\n",
        "plt.title(\"Assume we have data points\")\n",
        "plt.legend(loc = 2)\n",
        "plt.show()"
      ],
      "execution_count": 5,
      "outputs": [
        {
          "output_type": "display_data",
          "data": {
            "image/png": "[encoded data removed]",
            "text/plain": [
              "<Figure size 432x288 with 1 Axes>"
            ]
          },
          "metadata": {
            "tags": []
          }
        }
      ]
    },
    {
      "cell_type": "code",
      "metadata": {
        "id": "m3NKWd_txvsu",
        "colab_type": "code",
        "colab": {
          "base_uri": "https://localhost:8080/",
          "height": 281
        },
        "outputId": "37913e05-6dd0-4195-b5e0-4ba882eccb44"
      },
      "source": [
        "# 與範例相同, 不另外解說\n",
        "y_hat = x_lin * w + b\n",
        "plt.plot(x_lin, y, 'b.', label = 'data')\n",
        "plt.plot(x_lin, y_hat, 'r-', label = 'prediction')\n",
        "plt.title(\"Assume we have data points (And the prediction)\")\n",
        "plt.legend(loc = 2)\n",
        "plt.show()"
      ],
      "execution_count": 6,
      "outputs": [
        {
          "output_type": "display_data",
          "data": {
            "image/png": "[encoded data removed]",
            "text/plain": [
              "<Figure size 432x288 with 1 Axes>"
            ]
          },
          "metadata": {
            "tags": []
          }
        }
      ]
    },
    {
      "cell_type": "code",
      "metadata": {
        "id": "34aBhafTxvsx",
        "colab_type": "code",
        "colab": {
          "base_uri": "https://localhost:8080/",
          "height": 52
        },
        "outputId": "0f71d623-fcb4-43aa-b7da-f56fdc01e195"
      },
      "source": [
        "# 執行 Function, 確認有沒有正常執行\n",
        "MSE = mean_squared_error(y, y_hat)\n",
        "MAE = mean_absolute_error(y, y_hat)\n",
        "print(\"The Mean squared error is %.3f\" % (MSE))\n",
        "print(\"The Mean absolute error is %.3f\" % (MAE))"
      ],
      "execution_count": 11,
      "outputs": [
        {
          "output_type": "stream",
          "text": [
            "The Mean squared error is 232.099\n",
            "The Mean absolute error is 12.408\n"
          ],
          "name": "stdout"
        }
      ]
    },
    {
      "cell_type": "markdown",
      "metadata": {
        "id": "tFqKxEkzxvs1",
        "colab_type": "text"
      },
      "source": [
        "# [作業2]\n",
        "\n",
        "Dataset 中的 TMDB 5000 Movie Dataset：\n",
        "\n",
        "1. 這組資料為何重要\n",
        "  - 商業問題: 預測甚麼樣的電影會成功 (收益價值 or 評價價值)\n",
        "\n",
        "2. 資料從何而來 (tips: 譬如提供者是誰、以什麼方式蒐集)\n",
        "  - 經由 The Movie Database API 採集 \n",
        "  - 已根據 IMDB 的 DMCA 刪除請求刪除了此數據集的原始版本。為了最大限度地減少影響，將根據其使用條款將其替換為電影數據庫（TMDb）中類似的一組電影和數據字段\n",
        "\n",
        "3. 蒐集而來的資料型態為何\n",
        "  - 結構化 csv\n",
        "  - 包含電影資訊\n",
        " \n",
        "4. 這組資料想解決的問題如何評估\n",
        "  - ROC\n",
        "\n",
        "# [作業3]\n",
        "\n",
        "想像你經營一個自由載客車隊，你希望能透過數據分析以提升業績，請你思考並描述你如何規劃整體的分析/解決方案：\n",
        "\n",
        "1. 核心問題為何 (tips：如何定義 「提升業績 & 你的假設」)\n",
        "  - 哪種地方為出發點的最後收益較高\n",
        "\n",
        "2. 資料從何而來 (tips：哪些資料可能會對你想問的問題產生影響 & 資料如何蒐集)\n",
        "  - 車子載客紀錄: GPS, 最後收費金額\n",
        "  - Open API: 地區類別\n",
        "\n",
        "3. 蒐集而來的資料型態為何\n",
        "  - 結構化資料\n",
        "\n",
        "4. 你要回答的問題，其如何評估 (tips：你的假設如何驗證)\n",
        "  - F-score"
      ]
    }
  ]
}