{
  "nbformat": 4,
  "nbformat_minor": 0,
  "metadata": {
    "kernelspec": {
      "display_name": "Python 3",
      "language": "python",
      "name": "python3"
    },
    "language_info": {
      "codemirror_mode": {
        "name": "ipython",
        "version": 3
      },
      "file_extension": ".py",
      "mimetype": "text/x-python",
      "name": "python",
      "nbconvert_exporter": "python",
      "pygments_lexer": "ipython3",
      "version": "3.6.3"
    },
    "colab": {
      "name": "Day_035_HW.ipynb",
      "provenance": [],
      "collapsed_sections": []
    }
  },
  "cells": [
    {
      "cell_type": "markdown",
      "metadata": {
        "id": "DZYC3GPZ00-M",
        "colab_type": "text"
      },
      "source": [
        "## 練習時間\n",
        "相信大家對回歸問題及分類問題都有初步的了解。今天的作業希望大家搜尋有關 multi-label 的案例問題。下圖是電影 \"奇異博士\" 的分類。可以看到同時有 \"Action\", \"Adventure\", \"Fantasy\" 的類別存在，代表這是個多標籤的問題。 "
      ]
    },
    {
      "cell_type": "markdown",
      "metadata": {
        "id": "uUrLxSvb00-N",
        "colab_type": "text"
      },
      "source": [
        "![image](https://cdn-images-1.medium.com/max/1000/1*r0gYXMSQf5VhdMyl2bRDyg.png)"
      ]
    },
    {
      "cell_type": "markdown",
      "metadata": {
        "id": "VGjt3MiD00-N",
        "colab_type": "text"
      },
      "source": [
        "## 請搜尋目標為多標籤問題 (Multi-label) 的機器學習案例，了解其資料來源、目標以及評估指標為何\n",
        "## Hint: 服飾"
      ]
    },
    {
      "cell_type": "markdown",
      "metadata": {
        "colab_type": "text",
        "id": "m3sOeCIh4HOZ"
      },
      "source": [
        "**A**:\n",
        "\n",
        "Zhihu Machine Learning Challenge 2017\n",
        "\n",
        "https://biendata.com/competition/zhihu/\n",
        "\n",
        "**資料來源**: \n",
        "\n",
        "知乎給出的問題及話題標籤的綁定關係, 由於涉及到用戶隱私及數據安全等問題，不提供問題、話題描述的原始文本，而是使用字符編號及切詞後的詞語編號來表示文本信息。\n",
        "\n",
        "**目標**:\n",
        "\n",
        "對未標注數據(問題)自動標注 1 個或多個標籤\n",
        "\n",
        "**評估指標**:\n",
        "\n",
        "Precision & Recall 的調和平均數"
      ]
    }
  ]
}