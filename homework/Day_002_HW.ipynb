{
  "nbformat": 4,
  "nbformat_minor": 0,
  "metadata": {
    "kernelspec": {
      "display_name": "Python 3",
      "language": "python",
      "name": "python3"
    },
    "language_info": {
      "codemirror_mode": {
        "name": "ipython",
        "version": 3
      },
      "file_extension": ".py",
      "mimetype": "text/x-python",
      "name": "python",
      "nbconvert_exporter": "python",
      "pygments_lexer": "ipython3",
      "version": "3.6.6"
    },
    "colab": {
      "name": "Day_002_HW.ipynb",
      "version": "0.3.2",
      "provenance": [],
      "collapsed_sections": []
    }
  },
  "cells": [
    {
      "cell_type": "markdown",
      "metadata": {
        "id": "fAOMm9bSBnh7",
        "colab_type": "text"
      },
      "source": [
        "## [作業目標]\n",
        "了解機器學習適合應用的領域與範疇。"
      ]
    },
    {
      "cell_type": "markdown",
      "metadata": {
        "id": "_y1kRZwRBnh9",
        "colab_type": "text"
      },
      "source": [
        "## [作業重點]\n",
        "透過瞭解機器學習的運作方式，找出非常適用機器學習應用的領域及其原因"
      ]
    },
    {
      "cell_type": "markdown",
      "metadata": {
        "id": "yMVw-z7TBnh-",
        "colab_type": "text"
      },
      "source": [
        "## 作業\n",
        "請找出一個你認為機器學習可以發光發熱的領域並闡述原因? \n",
        "\n",
        "**A: 情緒辨識**\n",
        "- 若機器能識別情緒, 可以輔助利用在醫療、商業推薦等等有高價值的場景上\n",
        "- 要透過各種數據(生理數值、表情等等)的數據來判斷一個人的情緒, 對人類來說識別不一定準確(每個人判斷標準還不一樣), 而且費力, 且無法一次處理好多人。透過機器學習的處理, 可以試著解決這個複雜的問題, 並且有一套\"標準\"定義(那個最佳 function), 也才方便做接下去的落地應用。\n"
      ]
    }
  ]
}