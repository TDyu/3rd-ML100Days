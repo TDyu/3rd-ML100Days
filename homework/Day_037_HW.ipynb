{
  "nbformat": 4,
  "nbformat_minor": 0,
  "metadata": {
    "kernelspec": {
      "display_name": "Python 3",
      "language": "python",
      "name": "python3"
    },
    "language_info": {
      "codemirror_mode": {
        "name": "ipython",
        "version": 3
      },
      "file_extension": ".py",
      "mimetype": "text/x-python",
      "name": "python",
      "nbconvert_exporter": "python",
      "pygments_lexer": "ipython3",
      "version": "3.6.2"
    },
    "colab": {
      "name": "Day_037_HW.ipynb",
      "provenance": [],
      "collapsed_sections": []
    }
  },
  "cells": [
    {
      "cell_type": "markdown",
      "metadata": {
        "id": "n0x-8ckK9Ya7",
        "colab_type": "text"
      },
      "source": [
        "## [作業重點]\n",
        "了解線性回歸的模型發展歷程，並了解優勢與劣勢，以及其使用情境"
      ]
    },
    {
      "cell_type": "markdown",
      "metadata": {
        "id": "yE2KIYzc9Ya8",
        "colab_type": "text"
      },
      "source": [
        "## 作業"
      ]
    },
    {
      "cell_type": "markdown",
      "metadata": {
        "id": "kfqbO1Gh9Ya9",
        "colab_type": "text"
      },
      "source": [
        "請閱讀以下相關文獻，並回答以下問題\n",
        "\n",
        "[Linear Regression 詳細介紹](https://brohrer.mcknote.com/zh-Hant/how_machine_learning_works/how_linear_regression_works.html)\n",
        "\n",
        "[Logistics Regression 詳細介紹](https://medium.com/@yehjames/%E8%B3%87%E6%96%99%E5%88%86%E6%9E%90-%E6%A9%9F%E5%99%A8%E5%AD%B8%E7%BF%92-%E7%AC%AC3-3%E8%AC%9B-%E7%B7%9A%E6%80%A7%E5%88%86%E9%A1%9E-%E9%82%8F%E8%BC%AF%E6%96%AF%E5%9B%9E%E6%AD%B8-logistic-regression-%E4%BB%8B%E7%B4%B9-a1a5f47017e5)\n"
      ]
    },
    {
      "cell_type": "markdown",
      "metadata": {
        "id": "N8W27m6X9Ya-",
        "colab_type": "text"
      },
      "source": [
        "1. 線性回歸模型能夠準確預測非線性關係的資料集嗎?\n",
        "\n",
        "**A**:\n",
        "\n",
        "\"「找出符合資料規律的直線，就叫線性迴歸」、「只要因變量為自變量的**線性組合**，就可以稱作線性迴歸」，這代表就算線條不是直的，也可能是線性迴歸\"\n",
        "根據以上定義, 可預測非線性關係資料集。\n",
        "(但是是否\"準確\", 就要看準確的定義了)\n",
        "\n",
        "2. 回歸模型是否對資料分布有基本假設?\n",
        "\n",
        "**A**:\n",
        "\n",
        "有基本假設"
      ]
    }
  ]
}