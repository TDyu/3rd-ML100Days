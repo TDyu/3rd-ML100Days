{
  "nbformat": 4,
  "nbformat_minor": 0,
  "metadata": {
    "kernelspec": {
      "display_name": "Python 3",
      "language": "python",
      "name": "python3"
    },
    "language_info": {
      "codemirror_mode": {
        "name": "ipython",
        "version": 3
      },
      "file_extension": ".py",
      "mimetype": "text/x-python",
      "name": "python",
      "nbconvert_exporter": "python",
      "pygments_lexer": "ipython3",
      "version": "3.6.1"
    },
    "colab": {
      "name": "Day_007_HW.ipynb",
      "version": "0.3.2",
      "provenance": [],
      "collapsed_sections": []
    }
  },
  "cells": [
    {
      "cell_type": "markdown",
      "metadata": {
        "collapsed": true,
        "id": "dY4sbHuJN48O",
        "colab_type": "text"
      },
      "source": [
        "# 作業 : (Kaggle)鐵達尼生存預測"
      ]
    },
    {
      "cell_type": "markdown",
      "metadata": {
        "id": "mZTppMb1N48P",
        "colab_type": "text"
      },
      "source": [
        "# [作業目標]\n",
        "- 試著完成三種不同特徵類型的三種資料操作, 觀察結果\n",
        "- 思考一下, 這三種特徵類型, 哪一種應該最複雜/最難處理"
      ]
    },
    {
      "cell_type": "markdown",
      "metadata": {
        "id": "QE62fwgDN48Q",
        "colab_type": "text"
      },
      "source": [
        "# [作業重點]\n",
        "- 完成剩餘的八種 類型 x 操作組合 (In[6]~In[13], Out[6]~Out[13])\n",
        "- 思考何種特徵類型, 應該最複雜"
      ]
    },
    {
      "cell_type": "code",
      "metadata": {
        "id": "3Jrx_fZKN48Q",
        "colab_type": "code",
        "colab": {
          "base_uri": "https://localhost:8080/",
          "height": 34
        },
        "outputId": "d6ff2dea-7fd8-49e1-c74b-54229791b5e5"
      },
      "source": [
        "# 載入基本套件\n",
        "import pandas as pd\n",
        "import numpy as np\n",
        "\n",
        "# 讀取訓練與測試資料\n",
        "data_path = 'data/'\n",
        "df_train = pd.read_csv(data_path + 'titanic_train.csv')\n",
        "df_test = pd.read_csv(data_path + 'titanic_test.csv')\n",
        "df_train.shape"
      ],
      "execution_count": 5,
      "outputs": [
        {
          "output_type": "execute_result",
          "data": {
            "text/plain": [
              "(891, 12)"
            ]
          },
          "metadata": {
            "tags": []
          },
          "execution_count": 5
        }
      ]
    },
    {
      "cell_type": "code",
      "metadata": {
        "id": "q1_GbBV2N48T",
        "colab_type": "code",
        "colab": {
          "base_uri": "https://localhost:8080/",
          "height": 195
        },
        "outputId": "242a57f6-08d9-4fc9-88c5-713a216f1730"
      },
      "source": [
        "# 重組資料成為訓練 / 預測用格式\n",
        "train_Y = df_train['Survived']\n",
        "ids = df_test['PassengerId']\n",
        "df_train = df_train.drop(['PassengerId', 'Survived'] , axis=1)\n",
        "df_test = df_test.drop(['PassengerId'] , axis=1)\n",
        "df = pd.concat([df_train,df_test])\n",
        "df.head()"
      ],
      "execution_count": 7,
      "outputs": [
        {
          "output_type": "execute_result",
          "data": {
            "text/html": [
              "<div>\n",
              "<style scoped>\n",
              "    .dataframe tbody tr th:only-of-type {\n",
              "        vertical-align: middle;\n",
              "    }\n",
              "\n",
              "    .dataframe tbody tr th {\n",
              "        vertical-align: top;\n",
              "    }\n",
              "\n",
              "    .dataframe thead th {\n",
              "        text-align: right;\n",
              "    }\n",
              "</style>\n",
              "<table border=\"1\" class=\"dataframe\">\n",
              "  <thead>\n",
              "    <tr style=\"text-align: right;\">\n",
              "      <th></th>\n",
              "      <th>Pclass</th>\n",
              "      <th>Name</th>\n",
              "      <th>Sex</th>\n",
              "      <th>Age</th>\n",
              "      <th>SibSp</th>\n",
              "      <th>Parch</th>\n",
              "      <th>Ticket</th>\n",
              "      <th>Fare</th>\n",
              "      <th>Cabin</th>\n",
              "      <th>Embarked</th>\n",
              "    </tr>\n",
              "  </thead>\n",
              "  <tbody>\n",
              "    <tr>\n",
              "      <th>0</th>\n",
              "      <td>3</td>\n",
              "      <td>Braund, Mr. Owen Harris</td>\n",
              "      <td>male</td>\n",
              "      <td>22.0</td>\n",
              "      <td>1</td>\n",
              "      <td>0</td>\n",
              "      <td>A/5 21171</td>\n",
              "      <td>7.2500</td>\n",
              "      <td>NaN</td>\n",
              "      <td>S</td>\n",
              "    </tr>\n",
              "    <tr>\n",
              "      <th>1</th>\n",
              "      <td>1</td>\n",
              "      <td>Cumings, Mrs. John Bradley (Florence Briggs Th...</td>\n",
              "      <td>female</td>\n",
              "      <td>38.0</td>\n",
              "      <td>1</td>\n",
              "      <td>0</td>\n",
              "      <td>PC 17599</td>\n",
              "      <td>71.2833</td>\n",
              "      <td>C85</td>\n",
              "      <td>C</td>\n",
              "    </tr>\n",
              "    <tr>\n",
              "      <th>2</th>\n",
              "      <td>3</td>\n",
              "      <td>Heikkinen, Miss. Laina</td>\n",
              "      <td>female</td>\n",
              "      <td>26.0</td>\n",
              "      <td>0</td>\n",
              "      <td>0</td>\n",
              "      <td>STON/O2. 3101282</td>\n",
              "      <td>7.9250</td>\n",
              "      <td>NaN</td>\n",
              "      <td>S</td>\n",
              "    </tr>\n",
              "    <tr>\n",
              "      <th>3</th>\n",
              "      <td>1</td>\n",
              "      <td>Futrelle, Mrs. Jacques Heath (Lily May Peel)</td>\n",
              "      <td>female</td>\n",
              "      <td>35.0</td>\n",
              "      <td>1</td>\n",
              "      <td>0</td>\n",
              "      <td>113803</td>\n",
              "      <td>53.1000</td>\n",
              "      <td>C123</td>\n",
              "      <td>S</td>\n",
              "    </tr>\n",
              "    <tr>\n",
              "      <th>4</th>\n",
              "      <td>3</td>\n",
              "      <td>Allen, Mr. William Henry</td>\n",
              "      <td>male</td>\n",
              "      <td>35.0</td>\n",
              "      <td>0</td>\n",
              "      <td>0</td>\n",
              "      <td>373450</td>\n",
              "      <td>8.0500</td>\n",
              "      <td>NaN</td>\n",
              "      <td>S</td>\n",
              "    </tr>\n",
              "  </tbody>\n",
              "</table>\n",
              "</div>"
            ],
            "text/plain": [
              "   Pclass                                               Name  ... Cabin  Embarked\n",
              "0       3                            Braund, Mr. Owen Harris  ...   NaN         S\n",
              "1       1  Cumings, Mrs. John Bradley (Florence Briggs Th...  ...   C85         C\n",
              "2       3                             Heikkinen, Miss. Laina  ...   NaN         S\n",
              "3       1       Futrelle, Mrs. Jacques Heath (Lily May Peel)  ...  C123         S\n",
              "4       3                           Allen, Mr. William Henry  ...   NaN         S\n",
              "\n",
              "[5 rows x 10 columns]"
            ]
          },
          "metadata": {
            "tags": []
          },
          "execution_count": 7
        }
      ]
    },
    {
      "cell_type": "code",
      "metadata": {
        "id": "EPw7MG-LN48V",
        "colab_type": "code",
        "colab": {
          "base_uri": "https://localhost:8080/",
          "height": 136
        },
        "outputId": "92a5b81c-73c8-4b7f-c573-cee91ad5df75"
      },
      "source": [
        "# 秀出資料欄位的類型與數量\n",
        "dtype_df = df.dtypes.reset_index()\n",
        "dtype_df.columns = [\"Count\", \"Column Type\"]\n",
        "dtype_df = dtype_df.groupby(\"Column Type\").aggregate('count').reset_index()\n",
        "dtype_df"
      ],
      "execution_count": 8,
      "outputs": [
        {
          "output_type": "execute_result",
          "data": {
            "text/html": [
              "<div>\n",
              "<style scoped>\n",
              "    .dataframe tbody tr th:only-of-type {\n",
              "        vertical-align: middle;\n",
              "    }\n",
              "\n",
              "    .dataframe tbody tr th {\n",
              "        vertical-align: top;\n",
              "    }\n",
              "\n",
              "    .dataframe thead th {\n",
              "        text-align: right;\n",
              "    }\n",
              "</style>\n",
              "<table border=\"1\" class=\"dataframe\">\n",
              "  <thead>\n",
              "    <tr style=\"text-align: right;\">\n",
              "      <th></th>\n",
              "      <th>Column Type</th>\n",
              "      <th>Count</th>\n",
              "    </tr>\n",
              "  </thead>\n",
              "  <tbody>\n",
              "    <tr>\n",
              "      <th>0</th>\n",
              "      <td>int64</td>\n",
              "      <td>3</td>\n",
              "    </tr>\n",
              "    <tr>\n",
              "      <th>1</th>\n",
              "      <td>float64</td>\n",
              "      <td>2</td>\n",
              "    </tr>\n",
              "    <tr>\n",
              "      <th>2</th>\n",
              "      <td>object</td>\n",
              "      <td>5</td>\n",
              "    </tr>\n",
              "  </tbody>\n",
              "</table>\n",
              "</div>"
            ],
            "text/plain": [
              "  Column Type  Count\n",
              "0       int64      3\n",
              "1     float64      2\n",
              "2      object      5"
            ]
          },
          "metadata": {
            "tags": []
          },
          "execution_count": 8
        }
      ]
    },
    {
      "cell_type": "code",
      "metadata": {
        "id": "qpsGQfJGN48X",
        "colab_type": "code",
        "colab": {
          "base_uri": "https://localhost:8080/",
          "height": 105
        },
        "outputId": "1bd4fc33-fcc9-4e13-85d4-8a6dbafaf7e8"
      },
      "source": [
        "#確定只有 int64, float64, object 三種類型後, 分別將欄位名稱存於三個 list 中\n",
        "int_features = []\n",
        "float_features = []\n",
        "object_features = []\n",
        "for dtype, feature in zip(df.dtypes, df.columns):\n",
        "    if dtype == 'float64':\n",
        "        float_features.append(feature)\n",
        "    elif dtype == 'int64':\n",
        "        int_features.append(feature)\n",
        "    else:\n",
        "        object_features.append(feature)\n",
        "print(f'{len(int_features)} Integer Features : {int_features}\\n')\n",
        "print(f'{len(float_features)} Float Features : {float_features}\\n')\n",
        "print(f'{len(object_features)} Object Features : {object_features}')"
      ],
      "execution_count": 9,
      "outputs": [
        {
          "output_type": "stream",
          "text": [
            "3 Integer Features : ['Pclass', 'SibSp', 'Parch']\n",
            "\n",
            "2 Float Features : ['Age', 'Fare']\n",
            "\n",
            "5 Object Features : ['Name', 'Sex', 'Ticket', 'Cabin', 'Embarked']\n"
          ],
          "name": "stdout"
        }
      ]
    },
    {
      "cell_type": "markdown",
      "metadata": {
        "collapsed": true,
        "id": "_Fsx7QUhN48Z",
        "colab_type": "text"
      },
      "source": [
        "# 作業1 \n",
        "* 試著執行作業程式，觀察三種類型 (int / float / object) 的欄位分別進行( 平均 mean / 最大值 Max / 相異值 nunique )  \n",
        "中的九次操作會有那些問題? 並試著解釋那些發生Error的程式區塊的原因?\n",
        "\n",
        "======\n",
        "\n",
        "**A**: 沒有 error 發生, 此例子剛好都可\"執行\", 只是會有邏輯意義上的問題。\n",
        "例如 object 類型不能不會有 mean, 所以都為空, 即使可以做 max, 也只是按照字典排序去選擇, 不代表我們想要的意義上的 max。\n",
        "\n",
        "# 作業2\n",
        "* 思考一下，試著舉出今天五種類型以外的一種或多種資料類型，你舉出的新類型是否可以歸在三大類中的某些大類?  \n",
        "所以三大類特徵中，哪一大類處理起來應該最複雜?\n",
        "\n",
        "======\n",
        "\n",
        "**A**: \n",
        "1. 合併編號類, 通常有字串又有數值, 可以選擇分割成數值類或類別類使用。\n",
        "2. object 較為複雜, 因為類型繁多, 通常需要找到合適的對應方法先處理成數值再為使用, 但是每種類型怎麼處理又不一樣。"
      ]
    },
    {
      "cell_type": "code",
      "metadata": {
        "id": "qPFpT265N48a",
        "colab_type": "code",
        "colab": {
          "base_uri": "https://localhost:8080/",
          "height": 87
        },
        "outputId": "cfa3a5c3-ea7c-40e6-9436-85bd216d3eb8"
      },
      "source": [
        "# 例 : 整數 (int) 特徵取平均 (mean)\n",
        "df[int_features].mean()"
      ],
      "execution_count": 10,
      "outputs": [
        {
          "output_type": "execute_result",
          "data": {
            "text/plain": [
              "Pclass    2.294882\n",
              "SibSp     0.498854\n",
              "Parch     0.385027\n",
              "dtype: float64"
            ]
          },
          "metadata": {
            "tags": []
          },
          "execution_count": 10
        }
      ]
    },
    {
      "cell_type": "code",
      "metadata": {
        "id": "cyEmf2o1N48b",
        "colab_type": "code",
        "colab": {
          "base_uri": "https://localhost:8080/",
          "height": 809
        },
        "outputId": "1c45209b-8d65-4964-bc63-0e7cd7c4e67a"
      },
      "source": [
        "# 請依序列出 三種特徵類型 (int / float / object) x 三種方法 (平均 mean / 最大值 Max / 相異值 nunique) 的其餘操作\n",
        "print('Int feature')\n",
        "print(df[int_features].mean())\n",
        "print()\n",
        "print(df[int_features].max())\n",
        "print()\n",
        "print(df[int_features].nunique())\n",
        "\n",
        "print('\\n===\\nFloat feature')\n",
        "print(df[float_features].mean())\n",
        "print()\n",
        "print(df[float_features].max())\n",
        "print()\n",
        "print(df[float_features].nunique())\n",
        "\n",
        "print('\\n===\\nObject feature')\n",
        "print(df[object_features].mean())\n",
        "print()\n",
        "print(df[object_features].max())\n",
        "print()\n",
        "print(df[object_features].nunique())"
      ],
      "execution_count": 17,
      "outputs": [
        {
          "output_type": "stream",
          "text": [
            "Int feature\n",
            "Pclass    2.294882\n",
            "SibSp     0.498854\n",
            "Parch     0.385027\n",
            "dtype: float64\n",
            "\n",
            "Pclass    3\n",
            "SibSp     8\n",
            "Parch     9\n",
            "dtype: int64\n",
            "\n",
            "Pclass    3\n",
            "SibSp     7\n",
            "Parch     8\n",
            "dtype: int64\n",
            "\n",
            "===\n",
            "Float feature\n",
            "Age     29.881138\n",
            "Fare    33.295479\n",
            "dtype: float64\n",
            "\n",
            "Age      80.0000\n",
            "Fare    512.3292\n",
            "dtype: float64\n",
            "\n",
            "Age      98\n",
            "Fare    281\n",
            "dtype: int64\n",
            "\n",
            "===\n",
            "Object feature\n",
            "Series([], dtype: float64)\n",
            "\n",
            "Name      van Melkebeke, Mr. Philemon\n",
            "Sex                              male\n",
            "Ticket                      WE/P 5735\n",
            "dtype: object\n",
            "\n",
            "Name        1307\n",
            "Sex            2\n",
            "Ticket       929\n",
            "Cabin        186\n",
            "Embarked       3\n",
            "dtype: int64\n"
          ],
          "name": "stdout"
        }
      ]
    }
  ]
}