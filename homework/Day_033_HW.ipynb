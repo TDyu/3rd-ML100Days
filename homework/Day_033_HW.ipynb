{
  "nbformat": 4,
  "nbformat_minor": 0,
  "metadata": {
    "kernelspec": {
      "display_name": "Python 3",
      "language": "python",
      "name": "python3"
    },
    "language_info": {
      "codemirror_mode": {
        "name": "ipython",
        "version": 3
      },
      "file_extension": ".py",
      "mimetype": "text/x-python",
      "name": "python",
      "nbconvert_exporter": "python",
      "pygments_lexer": "ipython3",
      "version": "3.6.2"
    },
    "colab": {
      "name": "Day_033_HW.ipynb",
      "provenance": [],
      "collapsed_sections": []
    }
  },
  "cells": [
    {
      "cell_type": "markdown",
      "metadata": {
        "id": "HhC3_HhbUN54",
        "colab_type": "text"
      },
      "source": [
        "## 練習時間"
      ]
    },
    {
      "cell_type": "markdown",
      "metadata": {
        "id": "gfWbjBJlUN54",
        "colab_type": "text"
      },
      "source": [
        "請觀看李宏毅教授以神奇寶貝進化 CP 值預測的範例，解說何謂機器學習與過擬合。並回答以下問題"
      ]
    },
    {
      "cell_type": "markdown",
      "metadata": {
        "id": "Uik5SF3qUN55",
        "colab_type": "text"
      },
      "source": [
        "[youtube](https://www.youtube.com/watch?v=fegAeph9UaA)"
      ]
    },
    {
      "cell_type": "markdown",
      "metadata": {
        "id": "x9QcSL0AUN6D",
        "colab_type": "text"
      },
      "source": [
        "### 1. 模型的泛化能力 (generalization) 是指什麼？ \n",
        "\n",
        "**A**:\n",
        "\n",
        "訓練出來的 model 在 **new data** 上面的效果如何才是真正關心的\n",
        "\n",
        "### 2. 分類問題與回歸問題分別可用的目標函數有哪些？\n",
        "\n",
        "**A**:\n",
        "- 分類: 正確率, AUC, MAP, ...etc \n",
        "- 回歸: MAE, RMSE, ...etc\n",
        "\n"
      ]
    }
  ]
}